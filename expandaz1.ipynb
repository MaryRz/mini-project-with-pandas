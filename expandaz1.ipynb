{
 "cells": [
  {
   "cell_type": "code",
   "execution_count": 10,
   "id": "9c3f370b-bebb-4532-987c-3b216ebb4aad",
   "metadata": {
    "tags": []
   },
   "outputs": [
    {
     "name": "stdin",
     "output_type": "stream",
     "text": [
      "Enter age #1:  25\n",
      "Enter height (in meters) #1:  1.7\n",
      "Enter weight (in kgs) #1:  68\n",
      "Enter age #2:  22\n",
      "Enter height (in meters) #2:  1.6\n",
      "Enter weight (in kgs) #2:  90\n",
      "Enter age #3:  23\n",
      "Enter height (in meters) #3:  1.8\n",
      "Enter weight (in kgs) #3:  78\n"
     ]
    },
    {
     "name": "stdout",
     "output_type": "stream",
     "text": [
      "   Age  Height  Weight    BMI  Status\n",
      "0   25     1.7    68.0  23.53  Normal\n",
      "1   22     1.6    90.0  35.16   Obese\n",
      "2   23     1.8    78.0  24.07  Normal\n"
     ]
    }
   ],
   "source": [
    "import pandas as pd\n",
    "\n",
    "df = pd.DataFrame(columns=['Age', 'Height', 'Weight', 'BMI', 'Status'])\n",
    "\n",
    "for i in range(1, 11):\n",
    "    age = int(input(\"Enter age #{}: \".format(i)))\n",
    "    height = float(input(\"Enter height (in meters) #{}: \".format(i)))\n",
    "    weight = float(input(\"Enter weight (in kgs) #{}: \".format(i)))\n",
    "    bmi = round(weight / (height**2), 2)\n",
    "    \n",
    "    status = lambda x: 'Underweight' if x < 18.5 else ('Normal' if x < 25 else ('Overweight' if x < 30 else 'Obese'))\n",
    "    bmi_status = status(bmi)\n",
    "    \n",
    "    df.loc[len(df)] = [age, height, weight, bmi, bmi_status]\n",
    "\n",
    "print(df)\n",
    "\n"
   ]
  },
  {
   "cell_type": "code",
   "execution_count": null,
   "id": "02d1b51b-8969-481f-9f1f-649876451862",
   "metadata": {},
   "outputs": [],
   "source": []
  }
 ],
 "metadata": {
  "kernelspec": {
   "display_name": "Python 3 (ipykernel)",
   "language": "python",
   "name": "python3"
  },
  "language_info": {
   "codemirror_mode": {
    "name": "ipython",
    "version": 3
   },
   "file_extension": ".py",
   "mimetype": "text/x-python",
   "name": "python",
   "nbconvert_exporter": "python",
   "pygments_lexer": "ipython3",
   "version": "3.11.3"
  }
 },
 "nbformat": 4,
 "nbformat_minor": 5
}
